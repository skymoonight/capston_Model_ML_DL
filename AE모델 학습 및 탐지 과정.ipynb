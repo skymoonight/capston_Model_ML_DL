{
 "cells": [
  {
   "cell_type": "markdown",
   "metadata": {},
   "source": [
    "# 모델 학습 및 탐지"
   ]
  },
  {
   "cell_type": "code",
   "execution_count": 4,
   "metadata": {},
   "outputs": [],
   "source": [
    "import pandas as pd\n",
    "import tensorflow as tf"
   ]
  },
  {
   "cell_type": "code",
   "execution_count": 5,
   "metadata": {},
   "outputs": [
    {
     "name": "stdout",
     "output_type": "stream",
     "text": [
      "version 2.1.0\n"
     ]
    }
   ],
   "source": [
    "print(\"version\",tf.__version__)"
   ]
  },
  {
   "cell_type": "markdown",
   "metadata": {},
   "source": [
    "### 1. 정상 데이터로만 이루어진 cic_train 데이터 셋과 정상 데이터와 공격 데이터가 섞인 cic_test 데이터 셋을 사용 "
   ]
  },
  {
   "cell_type": "code",
   "execution_count": 6,
   "metadata": {},
   "outputs": [],
   "source": [
    "train=pd.read_csv('cic_train.csv')\n",
    "test=pd.read_csv('cic_test.csv')"
   ]
  },
  {
   "cell_type": "code",
   "execution_count": 7,
   "metadata": {},
   "outputs": [],
   "source": [
    "train_X=train.iloc[:,:-1]\n",
    "train_Y=train.iloc[:,-1]\n",
    "test_X=test.iloc[:,:-1]\n",
    "test_Y=test.iloc[:,-1]"
   ]
  },
  {
   "cell_type": "code",
   "execution_count": 8,
   "metadata": {},
   "outputs": [
    {
     "data": {
      "text/plain": [
       "(263809, 34)"
      ]
     },
     "execution_count": 8,
     "metadata": {},
     "output_type": "execute_result"
    }
   ],
   "source": [
    "train_X.shape"
   ]
  },
  {
   "cell_type": "code",
   "execution_count": 9,
   "metadata": {},
   "outputs": [
    {
     "data": {
      "text/plain": [
       "0         1.0\n",
       "1         1.0\n",
       "2         1.0\n",
       "3         0.0\n",
       "4         1.0\n",
       "         ... \n",
       "339655    1.0\n",
       "339656    0.0\n",
       "339657    1.0\n",
       "339658    0.0\n",
       "339659    1.0\n",
       "Name:  Label, Length: 339660, dtype: float64"
      ]
     },
     "execution_count": 9,
     "metadata": {},
     "output_type": "execute_result"
    }
   ],
   "source": [
    "test_Y"
   ]
  },
  {
   "cell_type": "markdown",
   "metadata": {},
   "source": [
    "### 2. AutoEncoder 학습"
   ]
  },
  {
   "cell_type": "code",
   "execution_count": 10,
   "metadata": {},
   "outputs": [],
   "source": [
    "import sys\n",
    "import numpy as np"
   ]
  },
  {
   "cell_type": "code",
   "execution_count": 11,
   "metadata": {},
   "outputs": [
    {
     "name": "stdout",
     "output_type": "stream",
     "text": [
      "34 34\n"
     ]
    }
   ],
   "source": [
    "#layers params#\n",
    "n_inputs = train_X.shape[1]\n",
    "encoding_dim=16 #인코더\n",
    "coding_dim = int(encoding_dim/2) #coding units\n",
    "decoding_dim = encoding_dim #디코더\n",
    "n_outputs = n_inputs # reconstruction\n",
    "print(n_inputs, n_outputs)"
   ]
  },
  {
   "cell_type": "code",
   "execution_count": 12,
   "metadata": {},
   "outputs": [],
   "source": [
    "#train params#\n",
    "learning_rate = 0.01 \n",
    "l2_reg = 0.0005\n",
    "learning_rate = 0.01\n",
    "n_epochs = 100\n",
    "batch_size = 32\n",
    "n_batches = len(train_X)"
   ]
  },
  {
   "cell_type": "code",
   "execution_count": 13,
   "metadata": {},
   "outputs": [],
   "source": [
    "from tensorflow.keras.models import Model, load_model\n",
    "from tensorflow.keras.layers import Input, Dense\n",
    "from tensorflow.keras.callbacks import ModelCheckpoint, TensorBoard\n",
    "from tensorflow.keras import regularizers\n",
    "import os\n",
    "import numpy as np \n",
    "import tensorflow as tf \n",
    "from functools import partial\n",
    "import tensorflow.compat.v1 as tf\n",
    "# set the layers using partial\n",
    "activation = tf.nn.elu\n",
    "weight_initializer = tf.keras.initializers.he_normal()  # He 초기화\n",
    "l2_regularizer = tf.keras.regularizers.l2(l2_reg)  # L2 규제\n"
   ]
  },
  {
   "cell_type": "code",
   "execution_count": 29,
   "metadata": {
    "scrolled": false
   },
   "outputs": [],
   "source": [
    "\n",
    "input_layer = Input(shape=(n_inputs, ))\n",
    "\n",
    "encoder = Dense(encoding_dim, activation=tf.nn.relu, kernel_regularizer=l2_regularizer, \n",
    "                kernel_initializer=weight_initializer)(input_layer)\n",
    "coding = Dense(coding_dim, activation=tf.nn.relu, kernel_regularizer=l2_regularizer, \n",
    "               kernel_initializer=weight_initializer)(encoder)\n",
    "decoder = Dense(decoding_dim, activation=tf.nn.relu, kernel_regularizer=l2_regularizer,\n",
    "                kernel_initializer=weight_initializer)(coding)\n",
    "output_layer = Dense(n_outputs, activation=tf.nn.relu, kernel_regularizer=l2_regularizer, \n",
    "                     kernel_initializer=weight_initializer)(decoder)\n",
    "autoencoder = Model(inputs=input_layer, outputs=output_layer)"
   ]
  },
  {
   "cell_type": "code",
   "execution_count": 30,
   "metadata": {
    "scrolled": true
   },
   "outputs": [
    {
     "name": "stdout",
     "output_type": "stream",
     "text": [
      "Train on 263809 samples, validate on 339660 samples\n",
      "Epoch 1/100\n",
      "263809/263809 [==============================] - 12s 45us/sample - loss: 0.0103 - accuracy: 0.8047 - val_loss: 0.0371 - val_accuracy: 0.8105\n",
      "Epoch 2/100\n",
      "263809/263809 [==============================] - 12s 44us/sample - loss: 0.0064 - accuracy: 0.9091 - val_loss: 0.0362 - val_accuracy: 0.8146\n",
      "Epoch 3/100\n",
      "263809/263809 [==============================] - 12s 45us/sample - loss: 0.0063 - accuracy: 0.9075 - val_loss: 0.0351 - val_accuracy: 0.8101\n",
      "Epoch 4/100\n",
      "263809/263809 [==============================] - 12s 44us/sample - loss: 0.0063 - accuracy: 0.9069 - val_loss: 0.0358 - val_accuracy: 0.8147\n",
      "Epoch 5/100\n",
      "263809/263809 [==============================] - 12s 44us/sample - loss: 0.0063 - accuracy: 0.9071 - val_loss: 0.0364 - val_accuracy: 0.7781\n",
      "Epoch 6/100\n",
      "263809/263809 [==============================] - 12s 44us/sample - loss: 0.0063 - accuracy: 0.9069 - val_loss: 0.0356 - val_accuracy: 0.8146\n",
      "Epoch 7/100\n",
      "263809/263809 [==============================] - 11s 43us/sample - loss: 0.0063 - accuracy: 0.9066 - val_loss: 0.0362 - val_accuracy: 0.7779\n",
      "Epoch 8/100\n",
      "263809/263809 [==============================] - 12s 44us/sample - loss: 0.0063 - accuracy: 0.9067 - val_loss: 0.0359 - val_accuracy: 0.7818\n",
      "Epoch 9/100\n",
      "263809/263809 [==============================] - 12s 44us/sample - loss: 0.0063 - accuracy: 0.9069 - val_loss: 0.0361 - val_accuracy: 0.7781\n",
      "Epoch 10/100\n",
      "263809/263809 [==============================] - 12s 44us/sample - loss: 0.0063 - accuracy: 0.9071 - val_loss: 0.0361 - val_accuracy: 0.7856\n",
      "Epoch 11/100\n",
      "263809/263809 [==============================] - 11s 43us/sample - loss: 0.0063 - accuracy: 0.9070 - val_loss: 0.0360 - val_accuracy: 0.7841\n",
      "Epoch 12/100\n",
      "263809/263809 [==============================] - 11s 44us/sample - loss: 0.0063 - accuracy: 0.9068 - val_loss: 0.0369 - val_accuracy: 0.8146\n",
      "Epoch 13/100\n",
      "263809/263809 [==============================] - 11s 44us/sample - loss: 0.0063 - accuracy: 0.9069 - val_loss: 0.0366 - val_accuracy: 0.8155\n",
      "Epoch 14/100\n",
      "263809/263809 [==============================] - 12s 44us/sample - loss: 0.0063 - accuracy: 0.9071 - val_loss: 0.0360 - val_accuracy: 0.7859\n",
      "Epoch 15/100\n",
      "263809/263809 [==============================] - 12s 44us/sample - loss: 0.0063 - accuracy: 0.9071 - val_loss: 0.0365 - val_accuracy: 0.8153\n",
      "Epoch 16/100\n",
      "263809/263809 [==============================] - 11s 44us/sample - loss: 0.0063 - accuracy: 0.9069 - val_loss: 0.0361 - val_accuracy: 0.7797\n",
      "Epoch 17/100\n",
      "263809/263809 [==============================] - 12s 44us/sample - loss: 0.0063 - accuracy: 0.9072 - val_loss: 0.0359 - val_accuracy: 0.8149\n",
      "Epoch 18/100\n",
      "263809/263809 [==============================] - 11s 43us/sample - loss: 0.0063 - accuracy: 0.9069 - val_loss: 0.0358 - val_accuracy: 0.7939\n",
      "Epoch 19/100\n",
      "263809/263809 [==============================] - 12s 44us/sample - loss: 0.0063 - accuracy: 0.9068 - val_loss: 0.0366 - val_accuracy: 0.8143\n",
      "Epoch 20/100\n",
      "263809/263809 [==============================] - 12s 44us/sample - loss: 0.0063 - accuracy: 0.9067 - val_loss: 0.0363 - val_accuracy: 0.7985\n",
      "Epoch 21/100\n",
      "263809/263809 [==============================] - 11s 43us/sample - loss: 0.0063 - accuracy: 0.9069 - val_loss: 0.0354 - val_accuracy: 0.7829\n",
      "Epoch 22/100\n",
      "263809/263809 [==============================] - 11s 43us/sample - loss: 0.0063 - accuracy: 0.9070 - val_loss: 0.0356 - val_accuracy: 0.8145\n",
      "Epoch 23/100\n",
      "263809/263809 [==============================] - 11s 44us/sample - loss: 0.0063 - accuracy: 0.9070 - val_loss: 0.0363 - val_accuracy: 0.8147\n",
      "Epoch 24/100\n",
      "263809/263809 [==============================] - 11s 44us/sample - loss: 0.0063 - accuracy: 0.9068 - val_loss: 0.0366 - val_accuracy: 0.8149\n",
      "Epoch 25/100\n",
      "263809/263809 [==============================] - 12s 44us/sample - loss: 0.0063 - accuracy: 0.9068 - val_loss: 0.0358 - val_accuracy: 0.8131\n",
      "Epoch 26/100\n",
      "263809/263809 [==============================] - 12s 44us/sample - loss: 0.0063 - accuracy: 0.9072 - val_loss: 0.0372 - val_accuracy: 0.7566\n",
      "Epoch 27/100\n",
      "263809/263809 [==============================] - 12s 45us/sample - loss: 0.0063 - accuracy: 0.9072 - val_loss: 0.0359 - val_accuracy: 0.8149\n",
      "Epoch 28/100\n",
      "263809/263809 [==============================] - 12s 44us/sample - loss: 0.0063 - accuracy: 0.9071 - val_loss: 0.0356 - val_accuracy: 0.8058\n",
      "Epoch 29/100\n",
      "263809/263809 [==============================] - 12s 44us/sample - loss: 0.0063 - accuracy: 0.9070 - val_loss: 0.0363 - val_accuracy: 0.7779\n",
      "Epoch 30/100\n",
      "263809/263809 [==============================] - 11s 43us/sample - loss: 0.0063 - accuracy: 0.9069 - val_loss: 0.0373 - val_accuracy: 0.8156\n",
      "Epoch 31/100\n",
      "263809/263809 [==============================] - 11s 43us/sample - loss: 0.0063 - accuracy: 0.9069 - val_loss: 0.0363 - val_accuracy: 0.8141\n",
      "Epoch 32/100\n",
      "263809/263809 [==============================] - 11s 43us/sample - loss: 0.0063 - accuracy: 0.9070 - val_loss: 0.0358 - val_accuracy: 0.7779\n",
      "Epoch 33/100\n",
      "263809/263809 [==============================] - 11s 43us/sample - loss: 0.0063 - accuracy: 0.9069 - val_loss: 0.0357 - val_accuracy: 0.8141\n",
      "Epoch 34/100\n",
      "263809/263809 [==============================] - 12s 44us/sample - loss: 0.0063 - accuracy: 0.9070 - val_loss: 0.0354 - val_accuracy: 0.8155\n",
      "Epoch 35/100\n",
      "263809/263809 [==============================] - 12s 44us/sample - loss: 0.0063 - accuracy: 0.9071 - val_loss: 0.0356 - val_accuracy: 0.8146\n",
      "Epoch 36/100\n",
      "263809/263809 [==============================] - 11s 44us/sample - loss: 0.0063 - accuracy: 0.9071 - val_loss: 0.0365 - val_accuracy: 0.8135\n",
      "Epoch 37/100\n",
      "263809/263809 [==============================] - 12s 44us/sample - loss: 0.0063 - accuracy: 0.9069 - val_loss: 0.0362 - val_accuracy: 0.7779\n",
      "Epoch 38/100\n",
      "263809/263809 [==============================] - 11s 44us/sample - loss: 0.0063 - accuracy: 0.9069 - val_loss: 0.0357 - val_accuracy: 0.8144\n",
      "Epoch 39/100\n",
      "263809/263809 [==============================] - 12s 44us/sample - loss: 0.0063 - accuracy: 0.9072 - val_loss: 0.0356 - val_accuracy: 0.8140\n",
      "Epoch 40/100\n",
      "263809/263809 [==============================] - 12s 44us/sample - loss: 0.0063 - accuracy: 0.9071 - val_loss: 0.0368 - val_accuracy: 0.8154\n",
      "Epoch 41/100\n",
      "263809/263809 [==============================] - 12s 44us/sample - loss: 0.0063 - accuracy: 0.9071 - val_loss: 0.0355 - val_accuracy: 0.7778\n",
      "Epoch 42/100\n",
      "263809/263809 [==============================] - 11s 43us/sample - loss: 0.0063 - accuracy: 0.9072 - val_loss: 0.0359 - val_accuracy: 0.8149\n",
      "Epoch 43/100\n",
      "263809/263809 [==============================] - 11s 43us/sample - loss: 0.0063 - accuracy: 0.9071 - val_loss: 0.0366 - val_accuracy: 0.8139\n",
      "Epoch 44/100\n",
      "263809/263809 [==============================] - 12s 44us/sample - loss: 0.0063 - accuracy: 0.9073 - val_loss: 0.0354 - val_accuracy: 0.7780\n",
      "Epoch 45/100\n",
      "263809/263809 [==============================] - 12s 45us/sample - loss: 0.0063 - accuracy: 0.9070 - val_loss: 0.0355 - val_accuracy: 0.7764\n",
      "Epoch 46/100\n",
      "263809/263809 [==============================] - 12s 44us/sample - loss: 0.0063 - accuracy: 0.9071 - val_loss: 0.0371 - val_accuracy: 0.8140\n",
      "Epoch 47/100\n",
      "263809/263809 [==============================] - 12s 44us/sample - loss: 0.0063 - accuracy: 0.9070 - val_loss: 0.0361 - val_accuracy: 0.8148\n",
      "Epoch 48/100\n",
      "263809/263809 [==============================] - 12s 44us/sample - loss: 0.0063 - accuracy: 0.9070 - val_loss: 0.0361 - val_accuracy: 0.8140\n",
      "Epoch 49/100\n",
      "263809/263809 [==============================] - 11s 43us/sample - loss: 0.0063 - accuracy: 0.9071 - val_loss: 0.0370 - val_accuracy: 0.8154\n",
      "Epoch 50/100\n",
      "263809/263809 [==============================] - 11s 44us/sample - loss: 0.0063 - accuracy: 0.9070 - val_loss: 0.0358 - val_accuracy: 0.8148\n",
      "Epoch 51/100\n",
      "263809/263809 [==============================] - 11s 43us/sample - loss: 0.0063 - accuracy: 0.9071 - val_loss: 0.0364 - val_accuracy: 0.7778\n",
      "Epoch 52/100\n",
      "263809/263809 [==============================] - 11s 43us/sample - loss: 0.0063 - accuracy: 0.9068 - val_loss: 0.0364 - val_accuracy: 0.8141\n",
      "Epoch 53/100\n",
      "263809/263809 [==============================] - 12s 44us/sample - loss: 0.0063 - accuracy: 0.9070 - val_loss: 0.0359 - val_accuracy: 0.7782\n"
     ]
    },
    {
     "name": "stdout",
     "output_type": "stream",
     "text": [
      "Epoch 54/100\n",
      "263809/263809 [==============================] - 12s 44us/sample - loss: 0.0063 - accuracy: 0.9070 - val_loss: 0.0360 - val_accuracy: 0.7781\n",
      "Epoch 55/100\n",
      "263809/263809 [==============================] - 11s 44us/sample - loss: 0.0063 - accuracy: 0.9068 - val_loss: 0.0363 - val_accuracy: 0.8137\n",
      "Epoch 56/100\n",
      "263809/263809 [==============================] - 11s 43us/sample - loss: 0.0063 - accuracy: 0.9068 - val_loss: 0.0372 - val_accuracy: 0.8140\n",
      "Epoch 57/100\n",
      "263809/263809 [==============================] - 11s 43us/sample - loss: 0.0063 - accuracy: 0.9071 - val_loss: 0.0357 - val_accuracy: 0.8141\n",
      "Epoch 58/100\n",
      "263809/263809 [==============================] - 12s 44us/sample - loss: 0.0063 - accuracy: 0.9073 - val_loss: 0.0362 - val_accuracy: 0.8062\n",
      "Epoch 59/100\n",
      "263809/263809 [==============================] - 11s 43us/sample - loss: 0.0063 - accuracy: 0.9070 - val_loss: 0.0367 - val_accuracy: 0.7943\n",
      "Epoch 60/100\n",
      "263809/263809 [==============================] - 11s 43us/sample - loss: 0.0063 - accuracy: 0.9070 - val_loss: 0.0352 - val_accuracy: 0.8009\n",
      "Epoch 61/100\n",
      "263809/263809 [==============================] - 11s 43us/sample - loss: 0.0063 - accuracy: 0.9070 - val_loss: 0.0363 - val_accuracy: 0.8153\n",
      "Epoch 62/100\n",
      "263809/263809 [==============================] - 12s 44us/sample - loss: 0.0063 - accuracy: 0.9067 - val_loss: 0.0359 - val_accuracy: 0.7782\n",
      "Epoch 63/100\n",
      "263809/263809 [==============================] - 11s 43us/sample - loss: 0.0063 - accuracy: 0.9073 - val_loss: 0.0362 - val_accuracy: 0.8144\n",
      "Epoch 64/100\n",
      "263809/263809 [==============================] - 12s 44us/sample - loss: 0.0063 - accuracy: 0.9069 - val_loss: 0.0363 - val_accuracy: 0.8146\n",
      "Epoch 65/100\n",
      "263809/263809 [==============================] - 12s 44us/sample - loss: 0.0063 - accuracy: 0.9070 - val_loss: 0.0359 - val_accuracy: 0.7777\n",
      "Epoch 66/100\n",
      "263809/263809 [==============================] - 12s 44us/sample - loss: 0.0063 - accuracy: 0.9069 - val_loss: 0.0359 - val_accuracy: 0.8135\n",
      "Epoch 67/100\n",
      "263809/263809 [==============================] - 11s 43us/sample - loss: 0.0063 - accuracy: 0.9071 - val_loss: 0.0361 - val_accuracy: 0.8039\n",
      "Epoch 68/100\n",
      "263809/263809 [==============================] - 11s 43us/sample - loss: 0.0063 - accuracy: 0.9071 - val_loss: 0.0351 - val_accuracy: 0.8149\n",
      "Epoch 69/100\n",
      "263809/263809 [==============================] - 12s 44us/sample - loss: 0.0063 - accuracy: 0.9071 - val_loss: 0.0358 - val_accuracy: 0.7869\n",
      "Epoch 70/100\n",
      "263809/263809 [==============================] - 12s 44us/sample - loss: 0.0063 - accuracy: 0.9072 - val_loss: 0.0365 - val_accuracy: 0.7779\n",
      "Epoch 71/100\n",
      "263809/263809 [==============================] - 11s 43us/sample - loss: 0.0063 - accuracy: 0.9070 - val_loss: 0.0360 - val_accuracy: 0.8144\n",
      "Epoch 72/100\n",
      "263809/263809 [==============================] - 11s 43us/sample - loss: 0.0063 - accuracy: 0.9071 - val_loss: 0.0359 - val_accuracy: 0.8145\n",
      "Epoch 73/100\n",
      "263809/263809 [==============================] - 11s 43us/sample - loss: 0.0063 - accuracy: 0.9072 - val_loss: 0.0364 - val_accuracy: 0.7793\n",
      "Epoch 74/100\n",
      "263809/263809 [==============================] - 11s 44us/sample - loss: 0.0063 - accuracy: 0.9070 - val_loss: 0.0371 - val_accuracy: 0.8135\n",
      "Epoch 75/100\n",
      "263809/263809 [==============================] - 12s 44us/sample - loss: 0.0063 - accuracy: 0.9070 - val_loss: 0.0369 - val_accuracy: 0.8140\n",
      "Epoch 76/100\n",
      "263809/263809 [==============================] - 12s 44us/sample - loss: 0.0063 - accuracy: 0.9072 - val_loss: 0.0361 - val_accuracy: 0.8152\n",
      "Epoch 77/100\n",
      "263809/263809 [==============================] - 12s 44us/sample - loss: 0.0063 - accuracy: 0.9069 - val_loss: 0.0361 - val_accuracy: 0.7779\n",
      "Epoch 78/100\n",
      "263809/263809 [==============================] - 11s 43us/sample - loss: 0.0063 - accuracy: 0.9069 - val_loss: 0.0361 - val_accuracy: 0.8121\n",
      "Epoch 79/100\n",
      "263809/263809 [==============================] - 12s 44us/sample - loss: 0.0063 - accuracy: 0.9070 - val_loss: 0.0372 - val_accuracy: 0.8132\n",
      "Epoch 80/100\n",
      "263809/263809 [==============================] - 12s 44us/sample - loss: 0.0063 - accuracy: 0.9070 - val_loss: 0.0356 - val_accuracy: 0.8139\n",
      "Epoch 81/100\n",
      "263809/263809 [==============================] - 12s 44us/sample - loss: 0.0063 - accuracy: 0.9071 - val_loss: 0.0361 - val_accuracy: 0.8118\n",
      "Epoch 82/100\n",
      "263809/263809 [==============================] - 11s 43us/sample - loss: 0.0063 - accuracy: 0.9068 - val_loss: 0.0358 - val_accuracy: 0.8139\n",
      "Epoch 83/100\n",
      "263809/263809 [==============================] - 12s 44us/sample - loss: 0.0063 - accuracy: 0.9070 - val_loss: 0.0364 - val_accuracy: 0.8133\n",
      "Epoch 84/100\n",
      "263809/263809 [==============================] - 12s 44us/sample - loss: 0.0063 - accuracy: 0.9070 - val_loss: 0.0364 - val_accuracy: 0.8146\n",
      "Epoch 85/100\n",
      "263809/263809 [==============================] - 11s 43us/sample - loss: 0.0063 - accuracy: 0.9070 - val_loss: 0.0355 - val_accuracy: 0.8099\n",
      "Epoch 86/100\n",
      "263809/263809 [==============================] - 12s 44us/sample - loss: 0.0063 - accuracy: 0.9071 - val_loss: 0.0358 - val_accuracy: 0.8154\n",
      "Epoch 87/100\n",
      "263809/263809 [==============================] - 11s 44us/sample - loss: 0.0063 - accuracy: 0.9069 - val_loss: 0.0358 - val_accuracy: 0.8132\n",
      "Epoch 88/100\n",
      "263809/263809 [==============================] - 11s 43us/sample - loss: 0.0063 - accuracy: 0.9070 - val_loss: 0.0356 - val_accuracy: 0.8152\n",
      "Epoch 89/100\n",
      "263809/263809 [==============================] - 11s 44us/sample - loss: 0.0063 - accuracy: 0.9070 - val_loss: 0.0350 - val_accuracy: 0.8079\n",
      "Epoch 90/100\n",
      "263809/263809 [==============================] - 11s 43us/sample - loss: 0.0063 - accuracy: 0.9070 - val_loss: 0.0358 - val_accuracy: 0.8127\n",
      "Epoch 91/100\n",
      "263809/263809 [==============================] - 12s 44us/sample - loss: 0.0063 - accuracy: 0.9069 - val_loss: 0.0358 - val_accuracy: 0.8142\n",
      "Epoch 92/100\n",
      "263809/263809 [==============================] - 12s 44us/sample - loss: 0.0063 - accuracy: 0.9069 - val_loss: 0.0366 - val_accuracy: 0.8147\n",
      "Epoch 93/100\n",
      "263809/263809 [==============================] - 12s 44us/sample - loss: 0.0063 - accuracy: 0.9070 - val_loss: 0.0359 - val_accuracy: 0.8138\n",
      "Epoch 94/100\n",
      "263809/263809 [==============================] - 12s 44us/sample - loss: 0.0063 - accuracy: 0.9068 - val_loss: 0.0361 - val_accuracy: 0.8146\n",
      "Epoch 95/100\n",
      "263809/263809 [==============================] - 12s 44us/sample - loss: 0.0063 - accuracy: 0.9070 - val_loss: 0.0356 - val_accuracy: 0.8155\n",
      "Epoch 96/100\n",
      "263809/263809 [==============================] - 12s 44us/sample - loss: 0.0063 - accuracy: 0.9072 - val_loss: 0.0356 - val_accuracy: 0.7834\n",
      "Epoch 97/100\n",
      "263809/263809 [==============================] - 11s 44us/sample - loss: 0.0063 - accuracy: 0.9070 - val_loss: 0.0358 - val_accuracy: 0.8149\n",
      "Epoch 98/100\n",
      "263809/263809 [==============================] - 12s 44us/sample - loss: 0.0063 - accuracy: 0.9069 - val_loss: 0.0363 - val_accuracy: 0.7778\n",
      "Epoch 99/100\n",
      "263809/263809 [==============================] - 12s 44us/sample - loss: 0.0063 - accuracy: 0.9071 - val_loss: 0.0367 - val_accuracy: 0.8141\n",
      "Epoch 100/100\n",
      "263809/263809 [==============================] - 11s 43us/sample - loss: 0.0063 - accuracy: 0.9070 - val_loss: 0.0365 - val_accuracy: 0.8145\n"
     ]
    }
   ],
   "source": [
    "nb_epoch =100\n",
    "batch_size =32\n",
    "\n",
    "autoencoder.compile(optimizer='adam',loss='mean_squared_error',metrics=['accuracy'])\n",
    "\n",
    "checkpointer = ModelCheckpoint(filepath=\"model.h5\",\n",
    "                              verbose=0,\n",
    "                              save_best_only=True)\n",
    "history = autoencoder.fit(train_X,train_X,\n",
    "                         epochs=nb_epoch,\n",
    "                         batch_size=batch_size,\n",
    "                         shuffle=True,\n",
    "                         validation_data=(test_X,test_X),\n",
    "                         verbose=1,\n",
    "                         callbacks=[checkpointer]\n",
    "                         ).history"
   ]
  },
  {
   "cell_type": "markdown",
   "metadata": {},
   "source": [
    "#### #train 데이터의 loss는 낮은 반면, valid로 설정한 test 데이터의 loss는 높은 것을 볼 수 있다."
   ]
  },
  {
   "cell_type": "code",
   "execution_count": 31,
   "metadata": {},
   "outputs": [
    {
     "data": {
      "image/png": "[encoded data removed]",
      "text/plain": [
       "<Figure size 432x288 with 1 Axes>"
      ]
     },
     "metadata": {
      "needs_background": "light"
     },
     "output_type": "display_data"
    }
   ],
   "source": [
    "import matplotlib.pyplot as plt\n",
    "import seaborn as sns\n",
    "from pylab import rcParams\n",
    "\n",
    "plt.plot(history['loss'], label='train loss')\n",
    "plt.plot(history['val_loss'], label='valid loss')\n",
    "plt.legend()\n",
    "plt.xlabel('Epoch'); plt.ylabel('loss')\n",
    "plt.show()"
   ]
  },
  {
   "cell_type": "markdown",
   "metadata": {},
   "source": [
    "### 3. 탐지를 위한 임계치 설정"
   ]
  },
  {
   "cell_type": "markdown",
   "metadata": {},
   "source": [
    "#### #임계치 설정을 위한 손실함수 계산"
   ]
  },
  {
   "cell_type": "code",
   "execution_count": 32,
   "metadata": {},
   "outputs": [],
   "source": [
    "import numpy as np\n",
    "from sklearn import metrics\n",
    "\n",
    "predictions = autoencoder.predict(test_X)\n",
    "mse = np.mean(np.power(test_X - predictions,2),axis=1)\n",
    "error_df = pd.DataFrame({'reconstruction_error':mse, 'true_class':test_Y})\n",
    "\n",
    "precision_rt, recall_rt, threshold_rt = metrics.precision_recall_curve(error_df['true_class'], error_df['reconstruction_error'])"
   ]
  },
  {
   "cell_type": "code",
   "execution_count": 33,
   "metadata": {},
   "outputs": [
    {
     "data": {
      "text/plain": [
       "array([[0.00437295, 0.        , 0.00771112, ..., 0.        , 0.        ,\n",
       "        0.        ],\n",
       "       [0.86696774, 0.        , 0.06269328, ..., 0.42459953, 0.        ,\n",
       "        0.41110373],\n",
       "       [0.93237877, 0.        , 0.09032328, ..., 0.65985626, 0.        ,\n",
       "        0.6444997 ],\n",
       "       ...,\n",
       "       [0.83618903, 0.        , 0.04969218, ..., 0.31390113, 0.        ,\n",
       "        0.30128086],\n",
       "       [0.00739825, 0.        , 0.00780884, ..., 0.        , 0.        ,\n",
       "        0.        ],\n",
       "       [0.00435895, 0.        , 0.00771066, ..., 0.        , 0.        ,\n",
       "        0.        ]], dtype=float32)"
      ]
     },
     "execution_count": 33,
     "metadata": {},
     "output_type": "execute_result"
    }
   ],
   "source": [
    "predictions"
   ]
  },
  {
   "cell_type": "markdown",
   "metadata": {},
   "source": [
    "#### #Precision과 Recall 그래프를 이용하여 두 값이 만나는 지점의 손실함수 값을 임계치로 설정"
   ]
  },
  {
   "cell_type": "code",
   "execution_count": 34,
   "metadata": {},
   "outputs": [
    {
     "data": {
      "image/png": "[encoded data removed]",
      "text/plain": [
       "<Figure size 576x360 with 1 Axes>"
      ]
     },
     "metadata": {
      "needs_background": "light"
     },
     "output_type": "display_data"
    }
   ],
   "source": [
    "plt.figure(figsize=(8,5))\n",
    "plt.plot(threshold_rt, precision_rt[1:], label='Precision')\n",
    "plt.plot(threshold_rt, recall_rt[1:], label='Recall')\n",
    "plt.xlabel('Threshold'); plt.ylabel('Precision/Recall')\n",
    "plt.legend()\n",
    "plt.show()"
   ]
  },
  {
   "cell_type": "code",
   "execution_count": 35,
   "metadata": {},
   "outputs": [
    {
     "name": "stdout",
     "output_type": "stream",
     "text": [
      "precision:  0.9557887042503069 , recall:  0.9557887042503069\n",
      "threshold:  0.0002768409243105919\n"
     ]
    }
   ],
   "source": [
    "# best position of threshold\n",
    "index_cnt = [cnt for cnt, (p, r) in enumerate(zip(precision_rt, recall_rt)) if p==r][0]\n",
    "print('precision: ',precision_rt[index_cnt],', recall: ',recall_rt[index_cnt])\n",
    "\n",
    "# fixed Threshold\n",
    "threshold_fixed = threshold_rt[index_cnt]\n",
    "print('threshold: ',threshold_fixed)"
   ]
  },
  {
   "cell_type": "code",
   "execution_count": 36,
   "metadata": {},
   "outputs": [
    {
     "data": {
      "text/html": [
       "<div>\n",
       "<style scoped>\n",
       "    .dataframe tbody tr th:only-of-type {\n",
       "        vertical-align: middle;\n",
       "    }\n",
       "\n",
       "    .dataframe tbody tr th {\n",
       "        vertical-align: top;\n",
       "    }\n",
       "\n",
       "    .dataframe thead th {\n",
       "        text-align: right;\n",
       "    }\n",
       "</style>\n",
       "<table border=\"1\" class=\"dataframe\">\n",
       "  <thead>\n",
       "    <tr style=\"text-align: right;\">\n",
       "      <th></th>\n",
       "      <th>reconstruction_error</th>\n",
       "      <th>true_class</th>\n",
       "    </tr>\n",
       "  </thead>\n",
       "  <tbody>\n",
       "    <tr>\n",
       "      <td>count</td>\n",
       "      <td>339660.000000</td>\n",
       "      <td>339660.000000</td>\n",
       "    </tr>\n",
       "    <tr>\n",
       "      <td>mean</td>\n",
       "      <td>0.033768</td>\n",
       "      <td>0.741103</td>\n",
       "    </tr>\n",
       "    <tr>\n",
       "      <td>std</td>\n",
       "      <td>0.037486</td>\n",
       "      <td>0.438030</td>\n",
       "    </tr>\n",
       "    <tr>\n",
       "      <td>min</td>\n",
       "      <td>0.000040</td>\n",
       "      <td>0.000000</td>\n",
       "    </tr>\n",
       "    <tr>\n",
       "      <td>25%</td>\n",
       "      <td>0.000275</td>\n",
       "      <td>0.000000</td>\n",
       "    </tr>\n",
       "    <tr>\n",
       "      <td>50%</td>\n",
       "      <td>0.011788</td>\n",
       "      <td>1.000000</td>\n",
       "    </tr>\n",
       "    <tr>\n",
       "      <td>75%</td>\n",
       "      <td>0.072187</td>\n",
       "      <td>1.000000</td>\n",
       "    </tr>\n",
       "    <tr>\n",
       "      <td>max</td>\n",
       "      <td>0.200884</td>\n",
       "      <td>1.000000</td>\n",
       "    </tr>\n",
       "  </tbody>\n",
       "</table>\n",
       "</div>"
      ],
      "text/plain": [
       "       reconstruction_error     true_class\n",
       "count         339660.000000  339660.000000\n",
       "mean               0.033768       0.741103\n",
       "std                0.037486       0.438030\n",
       "min                0.000040       0.000000\n",
       "25%                0.000275       0.000000\n",
       "50%                0.011788       1.000000\n",
       "75%                0.072187       1.000000\n",
       "max                0.200884       1.000000"
      ]
     },
     "execution_count": 36,
     "metadata": {},
     "output_type": "execute_result"
    }
   ],
   "source": [
    "error_df.describe()"
   ]
  },
  {
   "cell_type": "markdown",
   "metadata": {},
   "source": [
    "### 4.설정된 임계치를 이용한 탐지"
   ]
  },
  {
   "cell_type": "code",
   "execution_count": 37,
   "metadata": {},
   "outputs": [
    {
     "data": {
      "image/png": "[encoded data removed]",
      "text/plain": [
       "<Figure size 432x288 with 1 Axes>"
      ]
     },
     "metadata": {
      "needs_background": "light"
     },
     "output_type": "display_data"
    }
   ],
   "source": [
    "import pandas as pd\n",
    "import numpy as np\n",
    "import pickle\n",
    "import matplotlib.pyplot as plt\n",
    "from scipy import stats\n",
    "import tensorflow as tf\n",
    "import seaborn as sns\n",
    "from pylab import rcParams\n",
    "\n",
    "#threshold = 1.338433e-06\n",
    "groups = error_df.groupby('true_class')\n",
    "fig, ax = plt.subplots()\n",
    "\n",
    "for name, group in groups:\n",
    "    ax.plot(group.index, group.reconstruction_error, marker='o', ms=3.5, linestyle='',\n",
    "            label= \"attack\" if name ==1 else \"BENIGN\")\n",
    "ax.hlines(threshold_fixed, ax.get_xlim()[0], ax.get_xlim()[1], colors=\"r\", zorder=100, label='Threshold')\n",
    "ax.legend()\n",
    "plt.title(\"Reconstruction error for different classes\")\n",
    "plt.ylabel(\"Reconstruction error\")\n",
    "plt.xlabel(\"Data point index\")\n",
    "plt.show()"
   ]
  },
  {
   "cell_type": "code",
   "execution_count": 38,
   "metadata": {
    "scrolled": true
   },
   "outputs": [
    {
     "data": {
      "image/png": "[encoded data removed]",
      "text/plain": [
       "<Figure size 864x864 with 2 Axes>"
      ]
     },
     "metadata": {
      "needs_background": "light"
     },
     "output_type": "display_data"
    }
   ],
   "source": [
    "from sklearn.metrics import (confusion_matrix, precision_recall_curve, auc,\n",
    "                             roc_curve, recall_score, classification_report, f1_score,\n",
    "                             precision_recall_fscore_support)\n",
    "#threshold = 0.0001\n",
    "LABELS=[\"BENIGN\",\"Attack\"]\n",
    "y_pred = [1 if e > threshold_fixed else 0 for e in error_df.reconstruction_error.values]\n",
    "conf_matrix = confusion_matrix(error_df.true_class, y_pred)\n",
    "\n",
    "plt.figure(figsize=(12, 12))\n",
    "sns.heatmap(conf_matrix, xticklabels=LABELS, yticklabels=LABELS, annot=True, fmt=\"d\");\n",
    "plt.title(\"Confusion matrix\")\n",
    "plt.ylabel('True class')\n",
    "plt.xlabel('Predicted class')\n",
    "plt.show()"
   ]
  },
  {
   "cell_type": "code",
   "execution_count": null,
   "metadata": {},
   "outputs": [],
   "source": []
  }
 ],
 "metadata": {
  "kernelspec": {
   "display_name": "Python 3",
   "language": "python",
   "name": "python3"
  },
  "language_info": {
   "codemirror_mode": {
    "name": "ipython",
    "version": 3
   },
   "file_extension": ".py",
   "mimetype": "text/x-python",
   "name": "python",
   "nbconvert_exporter": "python",
   "pygments_lexer": "ipython3",
   "version": "3.7.7"
  }
 },
 "nbformat": 4,
 "nbformat_minor": 2
}
